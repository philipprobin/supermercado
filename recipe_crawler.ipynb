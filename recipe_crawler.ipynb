{
 "cells": [
  {
   "cell_type": "code",
   "execution_count": 5,
   "metadata": {},
   "outputs": [],
   "source": [
    "import requests\n",
    "from bs4 import BeautifulSoup\n",
    "import re\n",
    "\n",
    "import firebase_admin\n",
    "from firebase_admin import credentials, firestore\n",
    "\n",
    "from recipe_scrapers import scrape_me\n",
    "import requests\n",
    "from recipe_scrapers import scrape_html\n"
   ]
  },
  {
   "cell_type": "code",
   "execution_count": 3,
   "metadata": {},
   "outputs": [],
   "source": [
    "\n",
    "path = 'supermercado-371012-firebase-adminsdk-lu3fc-48a8c3583d.json'\n",
    "try:\n",
    "    app = firebase_admin.get_app()\n",
    "except ValueError as e:\n",
    "    cred = credentials.Certificate(path)\n",
    "    firebase_admin.initialize_app(cred)\n",
    "\n",
    "firebase_admin.get_app()\n",
    "\n",
    "db = firestore.client()"
   ]
  },
  {
   "cell_type": "code",
   "execution_count": 4,
   "metadata": {},
   "outputs": [],
   "source": [
    "def crawl_recipe_links(page):\n",
    "    # Send the request and get the response\n",
    "    response = requests.get(page)\n",
    "\n",
    "    # Parse the response content using Beautiful Soup\n",
    "    soup = BeautifulSoup(response.content, 'html.parser')\n",
    "\n",
    "    # Find all elements with the class 'c-teaser__link'\n",
    "    recipe_elements = soup.find_all(class_='ds-recipe-card__image-wrap ds-teaser-link__image-wrap ds-teaser-link__image-wrap')\n",
    "    print(len(recipe_elements))\n",
    "\n",
    "    # Print the text and href attributes of each element\n",
    "    recipe_links = []\n",
    "    for html in recipe_elements:\n",
    "        html = str(html)\n",
    "        soup = BeautifulSoup(html, 'html.parser')\n",
    "        \n",
    "        # find the img tag\n",
    "        img_tag = soup.find('img')\n",
    "\n",
    "        # access the src attribute\n",
    "        src = img_tag['src']\n",
    "        substring_index = src.index('bilder')\n",
    "        cutoff_string = src[:substring_index]\n",
    "        recipe_links.append(cutoff_string)\n",
    "    return recipe_links\n"
   ]
  },
  {
   "cell_type": "code",
   "execution_count": 58,
   "metadata": {},
   "outputs": [],
   "source": [
    "def write_recipe(title, time, ingredients, instructions, image, nutrients):\n",
    "    doc_ref = db.collection(u'recipes_veggie').document(title)\n",
    "    doc_ref.set({\n",
    "\n",
    "        u'title': title,\n",
    "        u'time': time,\n",
    "        u'ingredients': ingredients,\n",
    "        u'instructions': instructions,\n",
    "        u'image': image,\n",
    "        u'nutrients': nutrients,\n",
    "\n",
    "})"
   ]
  },
  {
   "cell_type": "code",
   "execution_count": 56,
   "metadata": {},
   "outputs": [
    {
     "name": "stdout",
     "output_type": "stream",
     "text": [
      "Gyros-Nudelauflauf in Metaxasoße\n"
     ]
    }
   ],
   "source": [
    "def get_recipe_ingredients(url):\n",
    "    html = requests.get(url).content\n",
    "\n",
    "    scraper = scrape_html(html=html, org_url=url)\n",
    "\n",
    "    write_recipe(scraper.title(),scraper.total_time(), scraper.ingredients(), scraper.instructions(), scraper.image(),scraper.nutrients())\n",
    "    print(scraper.title())\n",
    "\n",
    "\n",
    "get_recipe_ingredients(\"https://www.chefkoch.de/rezepte/2737891426025016/Gyros-Nudelauflauf-in-Metaxasosse.html\")"
   ]
  },
  {
   "cell_type": "code",
   "execution_count": 59,
   "metadata": {},
   "outputs": [
    {
     "name": "stdout",
     "output_type": "stream",
     "text": [
      "59\n",
      "Kartoffel-Brokkoli-Auflauf\n",
      "Bester vegetarischer Nudelauflauf\n",
      "Vegetarische Frikadellen\n",
      "Würziges Kartoffelcurry\n",
      "Paprika-Reispfanne mit Joghurtsauce\n",
      "Vegetarische Spinat-Gemüse-Lasagne mit Tomatensoße\n",
      "Vegetarische Tortellini-Pfanne\n",
      "Parmesan-Knoblauch-Kartoffelecken\n",
      "Schnelles Spinat-Kichererbsen-Gericht\n",
      "Gebratene Nudeln mit Gemüse, asiatisch\n",
      "Schwarzwälder Pilz-Dim Sum mit Sojasauce\n",
      "Weißer Ofenspargel mit Graupen-Wildkräutersalat\n",
      "Grießbrei von Großmutter\n",
      "Käsespätzle\n",
      "Maiscremesuppe mit Bohnen-Topping\n",
      "Penne mit Pilz-Ragout und Ei\n",
      "Steinpilzrisotto mit Topinambur und gelben Karotten\n",
      "Tortellini in Gorgonzola-Sauce\n",
      "Spaghetti aglio, olio e peperoncino\n",
      "Risotto alla milanese\n",
      "Spargel aus dem Ofen - ideal für Gäste\n",
      "Bulgur Buddha Bowl\n",
      "Gebackene Süßkartoffeln und Rote Bete mit Kräutersalat und Tahin-Dip\n",
      "Rote Linsen-Curry mit Süßkartoffeln\n",
      "Italienischer Pizzateig\n",
      "Cremiger Tortellini-Topf\n",
      "Gratinierter Brokkoli mit Schafskäse\n",
      "Pizzateig\n",
      "Pasta mit Kürbis-Pesto\n",
      "Rote Linsen-Kokos-Suppe\n",
      "Julies feine Gemüselasagne\n",
      "Pizzateig\n",
      "Kartoffelsalat mit Linsen\n",
      "Sauerkraut-Linsen-Salat\n",
      "Gefüllte Artischocken\n",
      "Gefüllte Spitzpaprika\n",
      "Quiche mit Spinat, Feta, Tomaten und Pinienkernen\n",
      "Traditionelle spanische Tortilla\n",
      "Ratatouille\n",
      "La parmigiana di Mamma Maria\n",
      "Rote-Bete-Quiche\n",
      "Tomaten-Bruschetta\n",
      "Spinatstrudel mit Feta und Tzatziki\n",
      "Kürbis-Käse-Tarte\n",
      "Rote-Bete-Eintopf mit Kichererbsen\n",
      "Spinat-Brokkoli-Nudelauflauf\n",
      "Der perfekte Milchreis - Grundrezept\n",
      "Großmutters Reibekuchen\n",
      "Möhrenpfannkuchen mit Spitzkohlsalat\n",
      "Wurzelgemüse-Risotto mit Gremolata\n",
      "Tomaten-Auberginen-Avocado-Burger\n",
      "Salat-Pfifferlinge-Bowl\n",
      "Gebackene Süßkartoffeln mit Avocado-Paprika-Creme\n",
      "Bunte Maultaschen-Pfanne\n",
      "Entenbrust\n",
      "Süßkartoffel-Orangen-Suppe\n",
      "Kaffee-Zimt Granola\n",
      "Hähnchenbrust im Rotweinfond mit Schmorgemüse\n",
      "Kartoffel-Gnocchi-Wurst-Pfanne\n"
     ]
    }
   ],
   "source": [
    "recipe_links = crawl_recipe_links('https://www.chefkoch.de/rs/s0t21,32/Hauptspeise-Vegetarisch-Rezepte.html')\n",
    "\n",
    "for i, url in enumerate(recipe_links):\n",
    "    get_recipe_ingredients(url)"
   ]
  }
 ],
 "metadata": {
  "kernelspec": {
   "display_name": "Python 3",
   "language": "python",
   "name": "python3"
  },
  "language_info": {
   "codemirror_mode": {
    "name": "ipython",
    "version": 3
   },
   "file_extension": ".py",
   "mimetype": "text/x-python",
   "name": "python",
   "nbconvert_exporter": "python",
   "pygments_lexer": "ipython3",
   "version": "3.10.9"
  },
  "orig_nbformat": 4,
  "vscode": {
   "interpreter": {
    "hash": "541e896b51b936199f095fa9f652933270c17ed08d4b1543e2f5052de8d37832"
   }
  }
 },
 "nbformat": 4,
 "nbformat_minor": 2
}
