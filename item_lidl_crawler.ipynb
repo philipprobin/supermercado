{
  "cells": [
    {
      "cell_type": "code",
      "execution_count": null,
      "metadata": {
        "id": "RFhxPFhOwYWT"
      },
      "outputs": [],
      "source": [
        "import numpy as np\n",
        "import itertools\n",
        "import requests\n",
        "import json"
      ]
    },
    {
      "cell_type": "code",
      "execution_count": null,
      "metadata": {
        "colab": {
          "base_uri": "https://localhost:8080/"
        },
        "id": "UclZb4VV6pL-",
        "outputId": "ac624d14-e90f-4231-fc4c-3e7ea48eac3b"
      },
      "outputs": [],
      "source": [
        "# Define a function that takes a letter and returns a string containing\n",
        "# all permutations of that letter with every other alphabet letter\n",
        "def get_permutations(letter):\n",
        "  # Create a list of all alphabet letters except the given letter\n",
        "  letters = [chr(i) for i in range(ord('a'), ord('z') + 1)]\n",
        "\n",
        "  # Get all permutations of the given letter with each other alphabet letter\n",
        "  permutations = list(itertools.product([letter], letters))\n",
        "\n",
        "  # Format the permutations as a string and return the result\n",
        "  return [''.join(perm) for perm in permutations]\n",
        "\n",
        "# Test the function with some example letters\n",
        "print(get_permutations('a'))\n",
        "print(get_permutations('b'))"
      ]
    },
    {
      "cell_type": "code",
      "execution_count": null,
      "metadata": {
        "collapsed": true,
        "id": "_CHBMI6Z64P5"
      },
      "outputs": [],
      "source": [
        "\n",
        "def letter_combinations():\n",
        "  # make list of every letter\n",
        "  letters = [chr(i) for i in range(ord('a'), ord('z') + 1)]\n",
        "  # make list of every two letter combination\n",
        "  all_combinations = np.array([])\n",
        "  for letter in letters:\n",
        "    all_combinations = np.append(all_combinations, get_permutations(letter))\n",
        "  return all_combinations\n",
        "\n",
        "all_combinations = letter_combinations()\n",
        "# print(all_combinations)\n"
      ]
    },
    {
      "cell_type": "code",
      "execution_count": null,
      "metadata": {
        "id": "5qQAEc8a-YYH"
      },
      "outputs": [],
      "source": [
        "def retreive_dropdown_items(request):\n",
        "  # Make the HTTP request\n",
        "  response = requests.get(request)\n",
        "  # Parse the response as JSON\n",
        "  data = response.json()\n",
        "\n",
        "  # returns every item of request e.g: 'ku' -> ['kuerbis', 'kurkuma']\n",
        "  every_item_rq = np.array([])\n",
        "  if len(data) != 0:\n",
        "    for item in data['list']:\n",
        "      # get the normalized item -> lower case, no special chars etc.\n",
        "      every_item_rq = np.append(every_item_rq, item['nameNormalized'])\n",
        "    return every_item_rq\n",
        "  else:\n",
        "    return []"
      ]
    },
    {
      "cell_type": "code",
      "execution_count": null,
      "metadata": {
        "colab": {
          "base_uri": "https://localhost:8080/"
        },
        "collapsed": true,
        "id": "SuCRvpeoDuHN",
        "outputId": "1ea9c558-5574-44ac-ef59-cf8934b71103"
      },
      "outputs": [],
      "source": [
        "def create_item_file(request_part, terminator):\n",
        "  every_item = np.array([])\n",
        "  # make request for every combination\n",
        "  for permutation in all_combinations:\n",
        "    # for test cases loop can be stopped prematurely\n",
        "    if permutation == terminator:\n",
        "      break\n",
        "    # construct http request\n",
        "    request = request_part+permutation\n",
        "    items = retreive_dropdown_items(request)\n",
        "    # append results to every_item list\n",
        "    if len(items) != 0:\n",
        "      every_item = np.append(every_item, items)\n",
        "    \n",
        "  # convert the list of strings to a JSON string\n",
        "  json_string = json.dumps({'items': every_item.tolist()})\n",
        "\n",
        "  # open a file in write mode\n",
        "  with open(\"strings.json\", \"w\") as file:\n",
        "      # write the JSON string to the file\n",
        "      file.write(json_string)\n",
        "\n",
        "create_item_file('https://www.lidl-kochen.de/api/search/fridge-autocomplete?s=',\"az\")"
      ]
    },
    {
      "cell_type": "code",
      "execution_count": null,
      "metadata": {
        "colab": {
          "base_uri": "https://localhost:8080/"
        },
        "id": "DDnPsaiPZibL",
        "outputId": "16aec042-eded-4b68-d25d-52042e2ac761"
      },
      "outputs": [],
      "source": [
        "# rewe crawler in work...\n",
        "\n",
        "rewe_request = 'https://shop.rewe.de/api/suggestions?q=apf'\n",
        "\n",
        "def retreive_rewe_dropdown(request):\n",
        "  # Make the HTTP request\n",
        "  response = requests.get(request)\n",
        "\n",
        "  # Parse the response as JSON\n",
        "  data = response.json()\n",
        "  # print(data['products'])\n",
        "  # print('for loop:')\n",
        "  # return data\n",
        "  every_item_rq = np.array([])\n",
        "  if len(data) != 0:\n",
        "    for item in data['products']:\n",
        "      # print('single product')\n",
        "      # print(item['name'])\n",
        "\n",
        "      every_item_rq = np.append(every_item_rq, item['name'])\n",
        "    return every_item_rq\n",
        "  else:\n",
        "    return []\n",
        "\n",
        "print('output')\n",
        "output = retreive_rewe_dropdown(rewe_request)\n",
        "print(output)"
      ]
    },
    {
      "cell_type": "code",
      "execution_count": null,
      "metadata": {
        "id": "dRQUoRGeF3Fs"
      },
      "outputs": [],
      "source": [
        "penny_url = 'https://flippingbook.penny-webservice.de/PENNY-HZ-KW50-15A-10/files/mobile/1.jpg'"
      ]
    },
    {
      "cell_type": "code",
      "execution_count": null,
      "metadata": {
        "id": "gVsxLCLRGC0L"
      },
      "outputs": [],
      "source": [
        "penny_ad = 'PENNY Markt Gmbil De\\n10 2202 20\\n2 Coupon im Innenteil.\\nPENNY.\\nMo, 12.12. bis Sa, 17.12.\\nSAMMELN & SPAREN\\n5FACH\\nPUNKTE²\\nDerf\\nINTE\\nAUF DEN EINKAUF\\nAB 30€ SICHERN!\\nAuslese\\nKLASSISCH\\nFERRERO\\nMon Chéri\\nMit der Pie-\\nmantkirsche,\\nje 157-g-\\nPackung\\n(1 kg-11.97)\\nAus dem\\nRheinland\\nMARKTLIEBE\\nDeutsche weiße\\nChampignons\\n3.99\\n6:49¹\\nMELITTA\\nKaffee\\nVerschiedene\\n-38%\\nSorten,\\ngemahlen,\\nje 500-g-Packung\\n(1 kg -7.98)\\nPAYBACK\\nMON\\nCHERI\\nTEST\\nKLI,\\nje 400-g-Schale\\n11 kg = 3.23]\\nErstmal zu Penny\\n1.29\\nRegional\\nwieren wo as herkommt\\nBeste Momente\\nmit Penny\\nMarktliebe 1.79\\nMOMENTS\\nLeberpaté\\nVerschiedene Sorten,\\nje 200-g-Becher\\n(1 kg - 14.95)\\n0.95\\nUVP 1:49\\n-27%\\n-36%\\n1.88\\n3.191\\nPREIS\\nSIEGER Wir bieten euch das beste Preis-\\nLeistungs-Verhältnis - das sagt\\nsogar der DEUTSCHLAND TEST!\\nMONEY\\nwww.deutschlandtest.de\\n-41%\\nUSSKLASSH\\nRans\\nSPORT\\nVOLL\\nPenny ist\\nPreissieger 2022\\nAktion\\n2.99\\nBest Moments\\nCa. 1.500 g\\nPRINGLES\\nChips\\nVerschiedene\\nSorten,\\nje 185-g-Dose\\n(1 kg-6.45)\\nRus\\nSPORT\\nALPENMILCH\\nBest Moments\\nExklusiv bei Penny\\nMehr dazu im Innenteil.\\n1 Niedrigster Preis der letzten 50 Tage: RITTER SPORT Bunte Vielfalt 0.79,\\nMELITTA Auslese Klassisch Kaffee 4.49, FERRERO Mon Chéri 1.99,\\nPRINGLES Chips 2.99\\nBEST\\nMOMENTS\\nPrager Schinken\\nVom Schwein, Haltungsform 2,\\nIm Frischfleischregal, verschiedene Gewichte,\\nje kg\\nRITTER SPORT\\nBunte Vielfalt\\nVerschiedene\\nSorten,\\nje 100-0-\\nTafel 0.69\\n(1 kg = 6.90)\\nNuss-/\\nMUSSY\\nKakaoklasse\\nVerschiedene\\nSorten,\\nje 100-g-\\nTafel 0.95\\n(1 kg = 9.50)\\n-46%\\nPRINGLES\\nPRINGLES PASSPORT\\nORIGINAL\\n0.69\\n1:291\\n-60%\\n1.19\\n2,991\\nAktion\\n6.99\\npenny.de'"
      ]
    }
  ],
  "metadata": {
    "colab": {
      "provenance": []
    },
    "kernelspec": {
      "display_name": "Python 3",
      "language": "python",
      "name": "python3"
    },
    "language_info": {
      "name": "python",
      "version": "3.10.9 (tags/v3.10.9:1dd9be6, Dec  6 2022, 20:01:21) [MSC v.1934 64 bit (AMD64)]"
    },
    "vscode": {
      "interpreter": {
        "hash": "541e896b51b936199f095fa9f652933270c17ed08d4b1543e2f5052de8d37832"
      }
    }
  },
  "nbformat": 4,
  "nbformat_minor": 0
}
