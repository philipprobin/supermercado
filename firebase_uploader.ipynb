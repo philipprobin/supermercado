{
 "cells": [
  {
   "cell_type": "code",
   "execution_count": 15,
   "metadata": {},
   "outputs": [
    {
     "ename": "ImportError",
     "evalue": "cannot import name 'firestoreexport' from 'firebase_admin' (C:\\Users\\phili\\AppData\\Local\\Packages\\PythonSoftwareFoundation.Python.3.10_qbz5n2kfra8p0\\LocalCache\\local-packages\\Python310\\site-packages\\firebase_admin\\__init__.py)",
     "output_type": "error",
     "traceback": [
      "\u001b[1;31m---------------------------------------------------------------------------\u001b[0m",
      "\u001b[1;31mImportError\u001b[0m                               Traceback (most recent call last)",
      "\u001b[1;32mc:\\Users\\phili\\Python_Projects\\Supermercado\\supermercado\\firebase_uploader.ipynb Cell 1\u001b[0m in \u001b[0;36m<cell line: 3>\u001b[1;34m()\u001b[0m\n\u001b[0;32m      <a href='vscode-notebook-cell:/c%3A/Users/phili/Python_Projects/Supermercado/supermercado/firebase_uploader.ipynb#W0sZmlsZQ%3D%3D?line=0'>1</a>\u001b[0m \u001b[39mimport\u001b[39;00m \u001b[39mfirebase_admin\u001b[39;00m\n\u001b[0;32m      <a href='vscode-notebook-cell:/c%3A/Users/phili/Python_Projects/Supermercado/supermercado/firebase_uploader.ipynb#W0sZmlsZQ%3D%3D?line=1'>2</a>\u001b[0m \u001b[39mfrom\u001b[39;00m \u001b[39mfirebase_admin\u001b[39;00m \u001b[39mimport\u001b[39;00m credentials\n\u001b[1;32m----> <a href='vscode-notebook-cell:/c%3A/Users/phili/Python_Projects/Supermercado/supermercado/firebase_uploader.ipynb#W0sZmlsZQ%3D%3D?line=2'>3</a>\u001b[0m \u001b[39mfrom\u001b[39;00m \u001b[39mfirebase_admin\u001b[39;00m \u001b[39mimport\u001b[39;00m firestoreexport\n\u001b[0;32m      <a href='vscode-notebook-cell:/c%3A/Users/phili/Python_Projects/Supermercado/supermercado/firebase_uploader.ipynb#W0sZmlsZQ%3D%3D?line=4'>5</a>\u001b[0m path \u001b[39m=\u001b[39m \u001b[39m'\u001b[39m\u001b[39msupermercado-371012-firebase-adminsdk-lu3fc-48a8c3583d.json\u001b[39m\u001b[39m'\u001b[39m\n\u001b[0;32m      <a href='vscode-notebook-cell:/c%3A/Users/phili/Python_Projects/Supermercado/supermercado/firebase_uploader.ipynb#W0sZmlsZQ%3D%3D?line=6'>7</a>\u001b[0m GOOGLE_APPLICATION_CREDENTIALS\u001b[39m=\u001b[39mpath\n",
      "\u001b[1;31mImportError\u001b[0m: cannot import name 'firestoreexport' from 'firebase_admin' (C:\\Users\\phili\\AppData\\Local\\Packages\\PythonSoftwareFoundation.Python.3.10_qbz5n2kfra8p0\\LocalCache\\local-packages\\Python310\\site-packages\\firebase_admin\\__init__.py)"
     ]
    }
   ],
   "source": [
    "import firebase_admin\n",
    "from firebase_admin import credentials\n",
    "from firebase_admin import firestoreexport\n",
    "\n",
    "path = 'supermercado-371012-firebase-adminsdk-lu3fc-48a8c3583d.json'\n",
    "\n",
    "GOOGLE_APPLICATION_CREDENTIALS=path\n",
    "\n",
    "# Use a service account.\n",
    "cred = credentials.Certificate(path)\n",
    "\n",
    "app = firebase_admin.initialize_app(cred, name= 'python_pusher')\n",
    "\n",
    "db = firestore.client()"
   ]
  },
  {
   "cell_type": "code",
   "execution_count": 1,
   "metadata": {},
   "outputs": [],
   "source": [
    "import firebase_admin\n",
    "from firebase_admin import credentials, firestore\n",
    "\n",
    "path = 'supermercado-371012-firebase-adminsdk-lu3fc-48a8c3583d.json'\n",
    "try:\n",
    "    app = firebase_admin.get_app()\n",
    "except ValueError as e:\n",
    "    cred = credentials.Certificate(path)\n",
    "    firebase_admin.initialize_app(cred)\n",
    "\n",
    "firebase_admin.get_app()\n",
    "\n",
    "db = firestore.client()"
   ]
  },
  {
   "cell_type": "code",
   "execution_count": 3,
   "metadata": {},
   "outputs": [
    {
     "data": {
      "text/plain": [
       "update_time {\n",
       "  seconds: 1672054027\n",
       "  nanos: 632486000\n",
       "}"
      ]
     },
     "execution_count": 3,
     "metadata": {},
     "output_type": "execute_result"
    }
   ],
   "source": [
    "\n",
    "\n",
    "doc_ref = db.collection(u'lidl').document(u'testDoc' )\n",
    "doc_ref.set({\n",
    "\n",
    "    u'quote': 'quote',\n",
    "\n",
    "    u'author': 'classe',\n",
    "\n",
    "})"
   ]
  }
 ],
 "metadata": {
  "kernelspec": {
   "display_name": "Python 3",
   "language": "python",
   "name": "python3"
  },
  "language_info": {
   "codemirror_mode": {
    "name": "ipython",
    "version": 3
   },
   "file_extension": ".py",
   "mimetype": "text/x-python",
   "name": "python",
   "nbconvert_exporter": "python",
   "pygments_lexer": "ipython3",
   "version": "3.10.9"
  },
  "orig_nbformat": 4,
  "vscode": {
   "interpreter": {
    "hash": "541e896b51b936199f095fa9f652933270c17ed08d4b1543e2f5052de8d37832"
   }
  }
 },
 "nbformat": 4,
 "nbformat_minor": 2
}
